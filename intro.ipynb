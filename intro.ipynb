{
  "nbformat": 4,
  "nbformat_minor": 0,
  "metadata": {
    "colab": {
      "name": "intro.ipynb",
      "provenance": [],
      "collapsed_sections": [
        "tnxNu--lqJMS",
        "6J84pDgSrBj4"
      ],
      "toc_visible": true,
      "authorship_tag": "ABX9TyOi5Jp+Zud+KlSRedEu7kB9",
      "include_colab_link": true
    },
    "kernelspec": {
      "name": "python3",
      "display_name": "Python 3"
    },
    "language_info": {
      "name": "python"
    }
  },
  "cells": [
    {
      "cell_type": "markdown",
      "metadata": {
        "id": "view-in-github",
        "colab_type": "text"
      },
      "source": [
        "<a href=\"https://colab.research.google.com/github/Amankhalsa/Age_calc_aman/blob/master/intro.ipynb\" target=\"_parent\"><img src=\"https://colab.research.google.com/assets/colab-badge.svg\" alt=\"Open In Colab\"/></a>"
      ]
    },
    {
      "cell_type": "markdown",
      "metadata": {
        "id": "UclJdZFKmCk-"
      },
      "source": [
        "# Intro of python\n",
        "# **What is Python?**\n",
        "\n",
        "Python is a popular programming language. It was created by Guido van Rossum, and released in 1991.\n",
        "\n",
        "**It is used for:**\n",
        "*   **web development (server-side),**\n",
        "*   **software development,**\n",
        "*   **mathematics,**\n",
        "*   **system scripting.**\n",
        "\n",
        "# Who used python language \n",
        "* NASA \n",
        "* Youtube\n",
        "* Yahoo\n",
        "* Instagram \n",
        "* Pinterest\n",
        "* Google\n",
        "* Facebook \n",
        "* IBM \n",
        "* dropbox\n",
        "* Mozilla\n",
        "\n",
        "# Top 10 Programming Languages for 2021\n",
        "* Python\n",
        "* JavaScript\n",
        "* Java\n",
        "* C++\n",
        "* GoLang\n",
        "* C#\n",
        "* SQL\n",
        "* Dart\n",
        "* R\n",
        "* PHP\n",
        "\n",
        "**What can Python do?**\n",
        "\n",
        "* Python can be used on a server to create web applications.\n",
        "\n",
        "* Python can be used alongside software to create workflows.\n",
        "\n",
        "* Python can connect to database systems. It can also read and modify files.\n",
        "\n",
        "* Python can be used to handle big data and perform complex mathematics.\n",
        "\n",
        "* Python can be used for rapid prototyping, or for production-ready software development.\n",
        "\n",
        "# Why Python?\n",
        "* Python works on different platforms (Windows, Mac, Linux, Raspberry Pi, etc).\n",
        "* Python has a simple syntax similar to the English language.\n",
        "Python has syntax that allows developers to write programs with fewer lines than some other programming languages.\n",
        "* Python runs on an interpreter system, meaning that code can be executed as soon as it is written. This means that prototyping can be very quick.\n",
        "* Python can be treated in a procedural way, an object-oriented way or a functional way.\n",
        "\n",
        "# Python Syntax compared to other programming languages\n",
        "* Python was designed for readability, and has some similarities to the English language with influence from mathematics.\n",
        "* Python uses new lines to complete a command, as opposed to other programming languages which often use semicolons or parentheses.\n",
        "* Python relies on indentation, using whitespace, to define scope; such as the scope of loops, functions and classes. Other programming languages often use curly-brackets for this purpose.\n",
        "\n",
        "# Features in Python\n",
        "* Easy to code: Python is a high-level programming language. ...\n",
        "* Free and Open Source: ...\n",
        "* Object-Oriented Language: ...\n",
        "* GUI Programming Support: ...\n",
        "* Cross platform lanuage \n",
        "* High-Level Language: ...\n",
        "* Extensible feature: ...\n",
        "* Python is Portable language: ...\n",
        "* Python is Integrated language\n",
        "* Interpreted Language:\n",
        "* Large Standard Library\n",
        "* Python has a large standard library which provides a rich set of module and functions etc.\n",
        "* Dynamically Typed Language:\n",
        "[>>More About:](https://www.geeksforgeeks.org/python-features/)\n",
        "\n",
        "# versions of python \n",
        "*\tPython 3.9 2020-10-05 End date =>2025-10\n",
        "*\tPython 3.8  October 14, 2019\n",
        "*\tPython 3.7  June 27, 2018\n",
        "*\tPython 3.6  December 23, 2016\n",
        "*\tPython 3.5  September 13, 2015\n",
        "*\tPython 3.4  March 16, 2014\n",
        "*\tPython 3.3  September 29, 2012\n",
        "*\tPython 3.2  February 20, 2011\n",
        "*\tPython 3.1  June 27, 2009\n",
        "*\tPython 3.0  December 3, 2008\n",
        "*\tPython 2.7  July 3, 2010\n",
        "*\tPython 2.6  October 1, 2008\n",
        "*\tPython 2.5  September 19, 2006\n",
        "*\tPython 2.4  November 30, 2004\n",
        "*\tPython 2.3  July 29, 2003\n",
        "*\tPython 2.2  December 21, 2001\n",
        "*\tPython 2.1  April 17, 2001\n",
        "*\tPython 2.0  October 16, 2000\n",
        "*\tPython 1.6  September 5, 2000\n",
        "*\tPython 1.5  December 31, 1997\n",
        "*\tPython 1.0  January 1994\n",
        "\n",
        "* [>>Read more](https://www.javatpoint.com/python-history)\n",
        "\n",
        "* [web link:](https://www.tutorialspoint.com/python/index.htm)\n",
        "\n",
        "\n",
        "\n",
        "\n",
        "\n",
        "\n",
        "\n",
        "\n",
        "\n"
      ]
    },
    {
      "cell_type": "markdown",
      "metadata": {
        "id": "ted9UFL2o3fn"
      },
      "source": [
        "# Python Getting Started\n",
        "# Python Install\n",
        "[Python official website link:](https://www.python.org/)\n",
        "[Download link](https://www.python.org/downloads/)\n",
        "* Many PCs and Macs will have python already installed.\n",
        "\n",
        "* To check if you have python installed on a Windows PC, search in the start bar for Python or run the following on the Command Line (cmd.exe):\n",
        "* C:\\Users\\Your Name>python --version\n",
        "# Python Quickstart\n",
        "* Python is an interpreted programming language, this means that as a developer you write Python (.py) files in a text editor and then put those files into the python interpreter to be executed.\n",
        "\n",
        "* The way to run a python file is like this on the command line:\n",
        "\n",
        "* C:\\Users\\Your Name>python helloworld.py\n",
        "# we can run  Python code  Command Line\n",
        "* C:\\Users\\Your Name>python filename.py\n",
        "\n",
        "* Whenever you are done in the python command line, you can simply type the following to quit the python command line interface:\n",
        "\n",
        "* exit()"
      ]
    },
    {
      "cell_type": "markdown",
      "metadata": {
        "id": "tnxNu--lqJMS"
      },
      "source": [
        "# Execute Python Syntax\n",
        "As we learned in the previous page, Python syntax can be executed by writing directly in the Command Line:\n",
        "\n",
        "* \n",
        "\n",
        "# Python Indentation\n",
        "* Indentation refers to the spaces at the beginning of a code line.\n",
        "\n",
        "* Where in other programming languages the indentation in code is for readability only, the indentation in Python is very important.\n",
        "\n",
        "* Python uses indentation to indicate a block of code.\n"
      ]
    },
    {
      "cell_type": "code",
      "metadata": {
        "colab": {
          "base_uri": "https://localhost:8080/"
        },
        "id": "YlJY5mM4usM8",
        "outputId": "ae9e8882-039a-48c2-f066-d306510a1fbb"
      },
      "source": [
        "print(\"Hello, python  World! \")\n"
      ],
      "execution_count": 8,
      "outputs": [
        {
          "output_type": "stream",
          "text": [
            "Hello, python  World! \n"
          ],
          "name": "stdout"
        }
      ]
    },
    {
      "cell_type": "markdown",
      "metadata": {
        "id": "qTbzB58DkpJI"
      },
      "source": [
        "# First hello print in python"
      ]
    },
    {
      "cell_type": "code",
      "metadata": {
        "colab": {
          "base_uri": "https://localhost:8080/"
        },
        "id": "5XNR3C5xsH6_",
        "outputId": "b9dbddd5-2e36-44f2-8589-b536420c0982"
      },
      "source": [
        "print(\"Hello, World!\")"
      ],
      "execution_count": null,
      "outputs": [
        {
          "output_type": "stream",
          "text": [
            "Hello, World!\n"
          ],
          "name": "stdout"
        }
      ]
    },
    {
      "cell_type": "markdown",
      "metadata": {
        "id": "6J84pDgSrBj4"
      },
      "source": [
        "# Python Syntax"
      ]
    },
    {
      "cell_type": "code",
      "metadata": {
        "colab": {
          "base_uri": "https://localhost:8080/"
        },
        "id": "vE9SI9bSqoQj",
        "outputId": "1734c439-4606-429a-a931-7ba3f0467ff3"
      },
      "source": [
        "#Python Syntax\n",
        "if 5 > 2:\n",
        "  print(\"Five is greater than two!\")\n",
        "else:\n",
        "  \n",
        "  print(\"no 5 is less then number\")\n",
        "#if you write like this Syntax Error:\n",
        "#if 5 > 2:\n",
        "#print(\"Five is greater than two!\")"
      ],
      "execution_count": 1,
      "outputs": [
        {
          "output_type": "stream",
          "text": [
            "Five is greater than two!\n"
          ],
          "name": "stdout"
        }
      ]
    },
    {
      "cell_type": "code",
      "metadata": {
        "colab": {
          "base_uri": "https://localhost:8080/"
        },
        "id": "1i-IrBEdQSb0",
        "outputId": "3abfd4f7-ef10-412a-b0d6-931a6d614422"
      },
      "source": [
        "# a is variable 9 is value of variable\n",
        "# a=9 \n",
        "# b=5\n",
        "# c=a+b\n",
        "# print(c)\n",
        "print(\"hello\")\n",
        "# we will discus next lecture about this below code \n",
        "\n",
        "list =[1,2,3,4,5]                 #this is a list \n",
        "print(list)\n",
        "my_tup=(1,\"a\",2,\"b\",3)            #tuple\n",
        "print(my_tup)\n",
        "my_dict={\"name\":\"john\",\"age\":28}  #dictonary\n",
        "print(my_dict)\n",
        "my_set={1,2,3,2,1,4,3,2,5,7}      #set \n",
        "print(\"Printed order wise no duplicate \",my_set)"
      ],
      "execution_count": 2,
      "outputs": [
        {
          "output_type": "stream",
          "text": [
            "hello\n",
            "[1, 2, 3, 4, 5]\n",
            "(1, 'a', 2, 'b', 3)\n",
            "{'name': 'john', 'age': 28}\n",
            "Printed order wise no duplicate  {1, 2, 3, 4, 5, 7}\n"
          ],
          "name": "stdout"
        }
      ]
    },
    {
      "cell_type": "markdown",
      "metadata": {
        "id": "y_P7Lq0ssfzf"
      },
      "source": [
        "# Python Comments\n",
        "* Comments can be used to explain Python code.\n",
        "* Comments can be used to make the code more readable.\n",
        "* Comments can be used to prevent execution when testing code.\n",
        "* Creating a Comment\n",
        "* Comments starts with a #, and Python will ignore them:\n",
        "# Comments in python "
      ]
    },
    {
      "cell_type": "code",
      "metadata": {
        "colab": {
          "base_uri": "https://localhost:8080/"
        },
        "id": "ZLD6vM22vCO4",
        "outputId": "ec037c38-258c-4dc6-dca5-d7531d43ba84"
      },
      "source": [
        "# thisis a comment \n",
        "\n",
        "\"\"\"This\n",
        "is \n",
        "a  \n",
        " multiline  comment\"\"\"\n",
        "print(\"Hello pyhton world !\")  #This is a comment"
      ],
      "execution_count": null,
      "outputs": [
        {
          "output_type": "stream",
          "text": [
            "Hello pyhton world !\n"
          ],
          "name": "stdout"
        }
      ]
    },
    {
      "cell_type": "markdown",
      "metadata": {
        "id": "Ag0-aCjatC_4"
      },
      "source": [
        "#Multi Line Comments\n",
        "* Python does not really have a syntax for multi line comments.\n",
        "\n",
        "* To add a multiline comment you could insert a # for each line:"
      ]
    },
    {
      "cell_type": "code",
      "metadata": {
        "colab": {
          "base_uri": "https://localhost:8080/"
        },
        "id": "J2bKZVk7tNCs",
        "outputId": "612f22f2-6753-4eab-996d-6138c5696d7c"
      },
      "source": [
        "#This is a comment\n",
        "#written in\n",
        "#more than just one line\n",
        "print(\"Hello, World!\")\n",
        "\n",
        "#2nd example\n",
        "\"\"\"\n",
        "This is a comment\n",
        "written in\n",
        "more than just one line\n",
        "\"\"\"\n",
        "print(\"Hello, World!\")"
      ],
      "execution_count": null,
      "outputs": [
        {
          "output_type": "stream",
          "text": [
            "Hello, World!\n",
            "Hello, World!\n"
          ],
          "name": "stdout"
        }
      ]
    },
    {
      "cell_type": "markdown",
      "metadata": {
        "id": "Wcl69XAotrxC"
      },
      "source": [
        "# Python Variables\n",
        "Variables\n",
        "* Variables are containers for storing data values.\n",
        "\n",
        "* Creating Variables\n",
        "* Python has no command for declaring a variable.\n",
        "\n",
        "*A variable is created the moment you first assign a value to it."
      ]
    },
    {
      "cell_type": "code",
      "metadata": {
        "colab": {
          "base_uri": "https://localhost:8080/"
        },
        "id": "cPafz_SXt7QC",
        "outputId": "6d739b20-f146-4a60-d914-f6937fab5694"
      },
      "source": [
        "x = 5\n",
        "y = \"John\"\n",
        "print(x)\n",
        "print(y)"
      ],
      "execution_count": null,
      "outputs": [
        {
          "output_type": "stream",
          "text": [
            "5\n",
            "John\n"
          ],
          "name": "stdout"
        }
      ]
    },
    {
      "cell_type": "code",
      "metadata": {
        "colab": {
          "base_uri": "https://localhost:8080/"
        },
        "id": "ck2ytntYwAtn",
        "outputId": "318b77aa-f6b2-4f7e-f043-3bad24a67495"
      },
      "source": [
        "#2nd example \n",
        "print(\"Hi\")\n",
        "# Variable in Python:\n",
        "# abc = \"It's a string variable\"\n",
        "# abcnum = 40 # It is an example of int variable\n",
        "# abc123 = 55.854 # It is an example of float variable\n",
        "# print(abcnum + abc123) # This will give sum of 40 + 55.854\n",
        "# print(type(abc))\n",
        "# print(abc)\n",
        "# num1=23\n",
        "# num2=55\n",
        "# print(int(num1)+int(num2))\n",
        "\n",
        "'''\n",
        "quiz1 : \n",
        "# '''\n",
        "# AB= input(\"Enter number :\")\n",
        "# print(AB)\n",
        "print(\"calculator\")\n",
        "#for user input 1 code\n",
        "x=input(\"enter num1:\")   #x=int(input(\"enter num1:\"))  can use like this \n",
        "x=int(x)\n",
        "# user input 2 code \n",
        "y=input(\"enter num2:\")   #y=int(input(\"enter num2:\"))  can use like this \n",
        "y=int(y)\n",
        "# calculation  code \n",
        "z = x+y\n",
        "print(\"Answer is :\", z)"
      ],
      "execution_count": null,
      "outputs": [
        {
          "output_type": "stream",
          "text": [
            "Hi\n",
            "calculator\n",
            "enter num1:45679\n",
            "enter num2:4789\n",
            "Answer is : 50468\n"
          ],
          "name": "stdout"
        }
      ]
    },
    {
      "cell_type": "markdown",
      "metadata": {
        "id": "vi8JbupeE2zK"
      },
      "source": [
        "[Click me: for more about python intro](https://youtu.be/3dy_PYF9xOI)"
      ]
    },
    {
      "cell_type": "markdown",
      "metadata": {
        "id": "-yxKZrUdw6hK"
      },
      "source": [
        "# Python - Variable Names\n",
        "* Variable Names\n",
        "* A variable can have a short name (like x and y) or a more descriptive name (age, carname, total_volume). Rules for Python variables:\n",
        "* A variable name must start with a letter or the underscore character\n",
        "* A variable name cannot start with a number\n",
        "* A variable name can only contain alpha-numeric characters and underscores (A-z, 0-9, and _ )\n",
        "* Variable names are case-sensitive (age, Age and AGE are three different variables)\n"
      ]
    },
    {
      "cell_type": "code",
      "metadata": {
        "id": "w-4lwpzxxF8L"
      },
      "source": [
        "#example\n",
        "myvar = \"John\"\n",
        "my_var = \"John\"\n",
        "_my_var = \"John\"\n",
        "myVar = \"John\"\n",
        "MYVAR = \"John\"\n",
        "myvar2 = \"John\""
      ],
      "execution_count": null,
      "outputs": []
    },
    {
      "cell_type": "code",
      "metadata": {
        "colab": {
          "base_uri": "https://localhost:8080/"
        },
        "id": "lgsuztHJxiqY",
        "outputId": "6bceb694-ccc0-47dd-d766-a2389363507b"
      },
      "source": [
        "#Remember that variable names are case-sensitive\n",
        "\n",
        "#Multi Words Variable Names\n",
        "#Variable names with more than one word can be difficult to read.\n",
        "\n",
        "#There are several techniques you can use to make them more readable:\n",
        "\n",
        "#Camel Case\n",
        "#Each word, except the first, starts with a capital letter:\n",
        "myVariableName = \"John\"\n",
        "print(myVariableName)\n",
        "\n",
        "#Pascal Case\n",
        "#Each word starts with a capital letter:\n",
        "MyVariableName = \"John\"\n",
        "print(MyVariableName)\n",
        "\n",
        "#Snake Case\n",
        "#Each word is separated by an underscore character:\n",
        "my_variable_name = \"John\"\n",
        "print(my_variable_name)"
      ],
      "execution_count": null,
      "outputs": [
        {
          "output_type": "stream",
          "text": [
            "John\n",
            "John\n",
            "John\n"
          ],
          "name": "stdout"
        }
      ]
    },
    {
      "cell_type": "markdown",
      "metadata": {
        "id": "6GVC-fW6ydDE"
      },
      "source": [
        "# Python Variables - Assign Multiple Values"
      ]
    },
    {
      "cell_type": "code",
      "metadata": {
        "colab": {
          "base_uri": "https://localhost:8080/"
        },
        "id": "q4pEtwsqyg6n",
        "outputId": "fbd419f0-57f3-49be-f649-364ee144b520"
      },
      "source": [
        "x, y, z = \"Orange\", \"Banana\", \"Cherry\"\n",
        "print(x)\n",
        "print(y)\n",
        "print(z)"
      ],
      "execution_count": null,
      "outputs": [
        {
          "output_type": "stream",
          "text": [
            "Orange\n",
            "Banana\n",
            "Cherry\n"
          ],
          "name": "stdout"
        }
      ]
    },
    {
      "cell_type": "code",
      "metadata": {
        "colab": {
          "base_uri": "https://localhost:8080/"
        },
        "id": "0gW9WMYJyqdf",
        "outputId": "e67c97ec-0fd3-48b3-cd61-2e061a484313"
      },
      "source": [
        "x = y = z = \"Orange\"\n",
        "\n",
        "print(x)\n",
        "print(y)\n",
        "print(z)\n"
      ],
      "execution_count": null,
      "outputs": [
        {
          "output_type": "stream",
          "text": [
            "Orange\n",
            "Orange\n",
            "Orange\n"
          ],
          "name": "stdout"
        }
      ]
    },
    {
      "cell_type": "markdown",
      "metadata": {
        "id": "iX4hmN9eywdO"
      },
      "source": [
        "# Unpack a Collection\n",
        "* If you have a collection of values in a list, tuple etc. Python allows you extract the values into variables. \n",
        "* This is called unpacking."
      ]
    },
    {
      "cell_type": "code",
      "metadata": {
        "id": "lfqNCB2Cy5VW",
        "colab": {
          "base_uri": "https://localhost:8080/"
        },
        "outputId": "e58a4373-75f4-4d76-bab4-9d21615a18d5"
      },
      "source": [
        "fruits = [\"apple\", \"banana\", \"cherry\"]\n",
        "x, y, z = fruits\n",
        "print(x)\n",
        "print(y)\n",
        "print(z)"
      ],
      "execution_count": 3,
      "outputs": [
        {
          "output_type": "stream",
          "text": [
            "apple\n",
            "banana\n",
            "cherry\n"
          ],
          "name": "stdout"
        }
      ]
    },
    {
      "cell_type": "markdown",
      "metadata": {
        "id": "DvPxNH22zHjO"
      },
      "source": [
        "# Python - Output Variables"
      ]
    },
    {
      "cell_type": "code",
      "metadata": {
        "colab": {
          "base_uri": "https://localhost:8080/"
        },
        "id": "KI8L9mdrzAYl",
        "outputId": "f4564a45-48b3-4784-8047-adcb5c272be7"
      },
      "source": [
        "'''Python - Output Variables\n",
        "Output Variables\n",
        "The Python print statement is often used to output variables.\n",
        "\n",
        "To combine both text and a variable, Python uses the + character:'''\n",
        "\n",
        "#Example\n",
        "x = \"awesome\"\n",
        "print(\"Python is \" + x)"
      ],
      "execution_count": null,
      "outputs": [
        {
          "output_type": "stream",
          "text": [
            "Python is awesome\n"
          ],
          "name": "stdout"
        }
      ]
    },
    {
      "cell_type": "markdown",
      "metadata": {
        "id": "4IdQgivCzU2P"
      },
      "source": [
        "# Python - Global Variables\n",
        "* Global Variables\n",
        "* Variables that are created outside of a function (as in all of the examples above) are known as global variables.\n",
        "\n",
        "* Global variables can be used by everyone, both inside of functions and outside.\n"
      ]
    },
    {
      "cell_type": "code",
      "metadata": {
        "colab": {
          "base_uri": "https://localhost:8080/"
        },
        "id": "fbHqK3eRzb3p",
        "outputId": "cd959f1c-bf49-440b-c800-bf4754baead9"
      },
      "source": [
        "x = \"awesome\"\n",
        "\n",
        "def myfunc():\n",
        "  print(\"Python is \" + x)\n",
        "\n",
        "myfunc()\n"
      ],
      "execution_count": null,
      "outputs": [
        {
          "output_type": "stream",
          "text": [
            "Python is awesome\n"
          ],
          "name": "stdout"
        }
      ]
    },
    {
      "cell_type": "markdown",
      "metadata": {
        "id": "Kehc-JhczmLh"
      },
      "source": [
        "# Python Data Types\n",
        "* Built-in Data Types\n",
        "* In programming, data type is an important concept.\n",
        "\n",
        "* Variables can store data of different types, and different types can do different things.\n",
        "\n",
        "Python has the following data types built-in by default, in these categories:\n"
      ]
    },
    {
      "cell_type": "code",
      "metadata": {
        "id": "biHzo3Fxz3Vy"
      },
      "source": [
        "#Text Type:\tstr\n",
        "# Numeric Types:\tint, float, complex\n",
        "# Sequence Types:\tlist, tuple, range\n",
        "# Mapping Type:\tdict\n",
        "# Set Types:\tset, frozenset\n",
        "# Boolean Type:\tbool\n",
        "# Binary Types:\tbytes, bytearray, memoryview"
      ],
      "execution_count": null,
      "outputs": []
    },
    {
      "cell_type": "code",
      "metadata": {
        "id": "sKfGJOCb0JEm"
      },
      "source": [
        "\"\"\" \n",
        "Python Numbers\n",
        "Python Numbers\n",
        "There are three numeric types in Python:\n",
        "int\n",
        "float\n",
        "complex\n",
        "\"\"\""
      ],
      "execution_count": null,
      "outputs": []
    },
    {
      "cell_type": "code",
      "metadata": {
        "id": "AVSRhOrT0SJD"
      },
      "source": [
        "x = 1    # int\n",
        "y = 2.8  # float\n",
        "z = 1j   # complex"
      ],
      "execution_count": null,
      "outputs": []
    },
    {
      "cell_type": "code",
      "metadata": {
        "colab": {
          "base_uri": "https://localhost:8080/"
        },
        "id": "GzdonxDz0X_Q",
        "outputId": "b1932354-de50-4471-aba3-416855056e37"
      },
      "source": [
        "x = 1\n",
        "y = 35656222554887711\n",
        "z = -3255522\n",
        "\n",
        "print(type(x))\n",
        "print(type(y))\n",
        "print(type(z))"
      ],
      "execution_count": null,
      "outputs": [
        {
          "output_type": "stream",
          "text": [
            "<class 'int'>\n",
            "<class 'int'>\n",
            "<class 'int'>\n"
          ],
          "name": "stdout"
        }
      ]
    },
    {
      "cell_type": "code",
      "metadata": {
        "colab": {
          "base_uri": "https://localhost:8080/"
        },
        "id": "MRIXrFR30c-M",
        "outputId": "ffbbb00a-aabe-4660-c8d9-45594b60fbf8"
      },
      "source": [
        "'''Float\n",
        "Float, or \"floating point number\" is a number, positive or negative, containing one or more decimals.\n",
        "\n",
        "Example\n",
        "Floats:\n",
        "'''\n",
        "x = 1.10\n",
        "y = 1.0\n",
        "z = -35.59\n",
        "\n",
        "print(type(x))\n",
        "print(type(y))\n",
        "print(type(z))"
      ],
      "execution_count": null,
      "outputs": [
        {
          "output_type": "stream",
          "text": [
            "<class 'float'>\n",
            "<class 'float'>\n",
            "<class 'float'>\n"
          ],
          "name": "stdout"
        }
      ]
    },
    {
      "cell_type": "code",
      "metadata": {
        "colab": {
          "base_uri": "https://localhost:8080/"
        },
        "id": "GWLht0Op0ous",
        "outputId": "07aae8e3-8e5b-4f78-963a-ab9c1f9fe234"
      },
      "source": [
        "'''Float can also be scientific numbers with an \"e\" to indicate the power of 10.\n",
        "\n",
        "Example\n",
        "Floats:'''\n",
        "\n",
        "x = 35e3\n",
        "y = 12E4\n",
        "z = -87.7e100\n",
        "\n",
        "print(type(x))\n",
        "print(type(y))\n",
        "print(type(z))"
      ],
      "execution_count": null,
      "outputs": [
        {
          "output_type": "stream",
          "text": [
            "<class 'float'>\n",
            "<class 'float'>\n",
            "<class 'float'>\n"
          ],
          "name": "stdout"
        }
      ]
    },
    {
      "cell_type": "code",
      "metadata": {
        "colab": {
          "base_uri": "https://localhost:8080/"
        },
        "id": "FTyG6yfG0wUO",
        "outputId": "22c4b1fa-a295-453b-9731-6f055430c36b"
      },
      "source": [
        "\"\"\"Complex\n",
        "Complex numbers are written with a \"j\" as the imaginary part:\n",
        "\n",
        "Example\n",
        "Complex:\n",
        "\"\"\"\n",
        "x = 3+5j\n",
        "y = 5j\n",
        "z = -5j\n",
        "\n",
        "print(type(x))\n",
        "print(type(y))\n",
        "print(type(z))"
      ],
      "execution_count": null,
      "outputs": [
        {
          "output_type": "stream",
          "text": [
            "<class 'complex'>\n",
            "<class 'complex'>\n",
            "<class 'complex'>\n"
          ],
          "name": "stdout"
        }
      ]
    },
    {
      "cell_type": "markdown",
      "metadata": {
        "id": "I99MqZq2wsSZ"
      },
      "source": [
        "# String "
      ]
    },
    {
      "cell_type": "code",
      "metadata": {
        "id": "xr8Lk0dzwwSj",
        "colab": {
          "base_uri": "https://localhost:8080/"
        },
        "outputId": "f6dc7b85-9803-4783-f5a7-76266f388118"
      },
      "source": [
        "  # String Functions:\n",
        "print(\"Result is printed \")\n",
        "demo = \"Preet is a good boy\" \n",
        "print(demo.endswith(\"boy\"))        # end with boy or not?\n",
        "print(demo.count('o'))             # count o in string \n",
        "print(demo.capitalize())           # for capital\n",
        "print(demo.upper())                # for upper\n",
        "print(demo.lower())                # for lower\n",
        "print(demo.find(\"is\"))             # find is in string\n",
        "print(demo.replace(\"good\",\"nice\")) # for Replace value \n",
        "# print(demo)\n",
        "# print(\"aman\")\n",
        "print(\"Half printed =>\",demo[0:5]) \n",
        "mystr = \"preet is a good boy\"\n",
        "# print(len(mystr))\n",
        "# print(mystr[::-2])\n",
        "\n",
        "print(mystr.endswith(\"bdoy\"))\n",
        "print(mystr.count(\"o\"))\n",
        "print(mystr.capitalize())\n",
        "print(mystr.replace(\"is\", \"_____\"))\n",
        "\n",
        "#9\n",
        "#9\n",
        "#9"
      ],
      "execution_count": 10,
      "outputs": [
        {
          "output_type": "stream",
          "text": [
            "Result is printed \n",
            "True\n",
            "3\n",
            "Preet is a good boy\n",
            "PREET IS A GOOD BOY\n",
            "preet is a good boy\n",
            "6\n",
            "Preet is a nice boy\n",
            "Half printed => Preet\n",
            "False\n",
            "3\n",
            "Preet is a good boy\n",
            "preet _____ a good boy\n"
          ],
          "name": "stdout"
        }
      ]
    },
    {
      "cell_type": "markdown",
      "metadata": {
        "id": "witpRKImvTvs"
      },
      "source": [
        "# **Thank you ...!**"
      ]
    }
  ]
}